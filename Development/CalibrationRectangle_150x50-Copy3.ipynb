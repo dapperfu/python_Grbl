{
 "cells": [
  {
   "cell_type": "markdown",
   "metadata": {},
   "source": [
    "# Calibration Rectangle \n",
    "\n",
    "150mm x 50mm rectangle for calibration purposes\n",
    "splay the image."
   ]
  },
  {
   "cell_type": "code",
   "execution_count": null,
   "metadata": {},
   "outputs": [],
   "source": [
    "import gcode\n",
    "import numpy as np\n",
    "import matplotlib.pyplot as plt"
   ]
  },
  {
   "cell_type": "code",
   "execution_count": null,
   "metadata": {},
   "outputs": [],
   "source": [
    "# DOE Configuration\n",
    "laserin_speed=200\n",
    "laserin_power=200"
   ]
  },
  {
   "cell_type": "code",
   "execution_count": null,
   "metadata": {},
   "outputs": [],
   "source": [
    "def init():\n",
    "    prog = gcode.GCode()\n",
    "    prog.G92(X=0, Y=0, Z=0) \n",
    "    prog.G21() # Metric\n",
    "    prog.G90() # Absolute\n",
    "    return prog"
   ]
  },
  {
   "cell_type": "code",
   "execution_count": null,
   "metadata": {},
   "outputs": [],
   "source": [
    "def calibration_border(laserin_speed, laserin_power):\n",
    "    axis_prog=gcode.GCode()\n",
    "    axis_prog.G0(X=0, Y=0, Z=0, F=300)\n",
    "    axis_prog.M4(S=laserin_power)\n",
    "    axis_prog.G1(X=0, Y=0, Z=0, F=laserin_speed)\n",
    "    axis_prog.G1(X=0, Y=160, Z=0, F=laserin_speed)\n",
    "    axis_prog.G0(X=60, Y=0, Z=0)\n",
    "    axis_prog.G1(X=0, Y=0, Z=0, F=laserin_speed)\n",
    "    axis_prog.G1(X=10, Y=10, Z=0, F=laserin_speed)\n",
    "    axis_prog.M5()\n",
    "    return axis_prog"
   ]
  },
  {
   "cell_type": "code",
   "execution_count": null,
   "metadata": {},
   "outputs": [],
   "source": [
    "init()+calibration_border(laserin_speed, laserin_power)"
   ]
  },
  {
   "cell_type": "code",
   "execution_count": null,
   "metadata": {},
   "outputs": [],
   "source": [
    "doe=gcode.GCode()\n",
    "X_pos = 10\n",
    "Ys = np.array([10, 160])\n",
    "    \n",
    "for laserin_power in [75, 100, 125, 150, 175, 200, 255]:\n",
    "    print(f\"Power Test: {laserin_power}\")\n",
    "    for x_spacing in [0, 0.1, 0.25, 0.5, 0.75, 1, 1.25, 1.5, 1.75, 2, 2.5]:\n",
    "        X_pos+=x_spacing\n",
    "        X_pos=np.round(X_pos, 4)\n",
    "        #\n",
    "        doe.G0(X=X_pos, Y=Ys[0])\n",
    "        #\n",
    "        doe.M4(S=laserin_power)\n",
    "        doe.G1(X=X_pos, Y=Ys[0])\n",
    "        doe.G1(X=X_pos, Y=Ys[1])\n",
    "        doe.M5()\n",
    "        #\n",
    "        doe.G0(X=X_pos, Y=Ys[1])\n",
    "        #\n",
    "        print(f\"\\tX:{X_pos}\\tY:{Ys[0]}:{Ys[1]}\")\n",
    "        Ys = np.flip(Ys)\n",
    "    X_pos+=5\n",
    "# 5 mm between DOE tests.\n",
    "X_pos"
   ]
  },
  {
   "cell_type": "code",
   "execution_count": null,
   "metadata": {},
   "outputs": [],
   "source": [
    "import requests\n",
    "\n",
    "esphome_cfg = {\n",
    "    \"host\": \"cnc.lan\",\n",
    "    \"id\": \"cnc_relay\"\n",
    "}\n",
    "\n",
    "base_url = f\"http://{esphome_cfg['host']}/switch/{esphome_cfg['id']}\"\n",
    "base_url"
   ]
  },
  {
   "cell_type": "code",
   "execution_count": null,
   "metadata": {},
   "outputs": [],
   "source": [
    "r = requests.post(f\"{base_url}/turn_on\")\n",
    "assert r.status_code == 200\n",
    "\n",
    "r = requests.get(f\"{base_url}\")\n",
    "assert r.json()[\"state\"] == \"ON\"\n",
    "assert r.json()[\"value\"]\n",
    "\n",
    "r = requests.post(f\"{base_url}/turn_off\")\n",
    "assert r.status_code == 200\n",
    "\n",
    "\n",
    "r = requests.get(f\"{base_url}\")\n",
    "assert r.json()[\"state\"] == \"OFF\"\n",
    "assert not r.json()[\"value\"]"
   ]
  },
  {
   "cell_type": "code",
   "execution_count": null,
   "metadata": {},
   "outputs": [],
   "source": [
    "import sys\n",
    "\n",
    "# https://github.com/jed-frey/build_opencv\n",
    "sys.path.append(\"/opt/opencv4/lib/python3.8/site-packages\")\n",
    "\n",
    "import cv2\n",
    "from PIL import Image\n",
    "from IPython.display import display"
   ]
  },
  {
   "cell_type": "code",
   "execution_count": null,
   "metadata": {},
   "outputs": [],
   "source": [
    "import timeout_decorator\n",
    "\n",
    "class VideoCapture2(cv2.VideoCapture):\n",
    "    def __init__(self, *args, **kwargs):\n",
    "        super().__init__(*args, **kwargs)\n",
    "        \n",
    "    @property\n",
    "    def frame(self):\n",
    "        ret, frame = self.read()\n",
    "        if ret:\n",
    "            return frame\n",
    "        else:\n",
    "            raise Exception(\"Reading Failed\")\n",
    "        \n",
    "    def pil_img(self):\n",
    "        img = cv2.cvtColor(self.frame, cv2.COLOR_BGR2RGB)\n",
    "        return Image.fromarray(img)\n",
    "    \n",
    "    def __enter__(self):\n",
    "        return self\n",
    "    \n",
    "    @timeout_decorator.timeout(10)\n",
    "    def __exit__(self,type, value, traceback):\n",
    "        while self.isOpened():\n",
    "            self.release() \n",
    "\n",
    "            \n",
    "import IPython.core.magic\n",
    "@IPython.core.magic.register_line_magic\n",
    "def webcam(*args, **kwargs):\n",
    "    webcams = [arg for arg in args[0].split(\" \")]\n",
    "    for webcam in webcams:\n",
    "        if webcam.startswith(\"/dev/video\"):\n",
    "            webcam = int(webcam.split(\"/dev/video\")[-1])\n",
    "        else:\n",
    "            try:\n",
    "                webcam = int(webcam)\n",
    "            except:\n",
    "                pass\n",
    "        with VideoCapture2(webcam) as cap:\n",
    "            img = cap.pil_img()\n",
    "            display(img)"
   ]
  },
  {
   "cell_type": "code",
   "execution_count": null,
   "metadata": {},
   "outputs": [],
   "source": [
    "import os\n",
    "auth = os.environ[\"WEBCAM_AUTH\"]\n",
    "ip   = os.environ[\"WEBCAM_IP\"]"
   ]
  },
  {
   "cell_type": "code",
   "execution_count": null,
   "metadata": {},
   "outputs": [],
   "source": [
    "%webcam /dev/video0 rtsp://$auth@$ip/cam/realmonitor?channel=1&subtype=0"
   ]
  },
  {
   "cell_type": "code",
   "execution_count": null,
   "metadata": {},
   "outputs": [],
   "source": [
    "r = requests.post(f\"{base_url}/turn_on\")\n",
    "assert r.status_code == 200\n",
    "\n",
    "r = requests.get(f\"{base_url}\")\n",
    "assert r.json()[\"state\"] == \"ON\"\n",
    "assert r.json()[\"value\"]\n",
    "\n",
    "import grbl\n",
    "\n",
    "cnc = grbl.Grbl(port=\"/dev/ttyUSB0\")\n",
    "\n",
    "cnc.home()"
   ]
  },
  {
   "cell_type": "code",
   "execution_count": null,
   "metadata": {},
   "outputs": [],
   "source": [
    "cnc.serial.close()"
   ]
  },
  {
   "cell_type": "code",
   "execution_count": null,
   "metadata": {},
   "outputs": [],
   "source": [
    "with grbl.Grbl(port=\"/dev/ttyUSB0\") as cnc:\n",
    "    cnc.home()"
   ]
  },
  {
   "cell_type": "code",
   "execution_count": null,
   "metadata": {},
   "outputs": [],
   "source": [
    "init()+calibration_border(laserin_speed, laserin_power)"
   ]
  },
  {
   "cell_type": "code",
   "execution_count": null,
   "metadata": {},
   "outputs": [],
   "source": [
    "doe"
   ]
  },
  {
   "cell_type": "code",
   "execution_count": null,
   "metadata": {},
   "outputs": [],
   "source": [
    "full_program = init()+calibration_border(laserin_speed, laserin_power)+doe"
   ]
  },
  {
   "cell_type": "code",
   "execution_count": null,
   "metadata": {},
   "outputs": [],
   "source": [
    "full_program.save(\"laser_spacing_power_doe.ngc\")"
   ]
  },
  {
   "cell_type": "code",
   "execution_count": null,
   "metadata": {
    "scrolled": true
   },
   "outputs": [],
   "source": [
    "foo = gcode.GCode.load(\"laser_spacing_power_doe.ngc\")\n",
    "#TODO Make Class Function"
   ]
  },
  {
   "cell_type": "code",
   "execution_count": null,
   "metadata": {},
   "outputs": [],
   "source": [
    "foo = gcode.GCode(machine=cnc)\n",
    "foo.load(\"laser_spacing_power_doe.ngc\")\n"
   ]
  },
  {
   "cell_type": "code",
   "execution_count": null,
   "metadata": {
    "scrolled": false
   },
   "outputs": [],
   "source": [
    "foo"
   ]
  },
  {
   "cell_type": "code",
   "execution_count": null,
   "metadata": {},
   "outputs": [],
   "source": [
    "reloaded_program = gcode.GCode()\n",
    "reloaded_program.load(\"laser_spacing_power_doe.ngc\")\n",
    "with grbl.Grbl(port=\"/dev/ttyUSB0\") as cnc:\n",
    "    cnc.home()\n",
    "    cnc.run(reloaded_program)\n",
    "    cnc.home()"
   ]
  },
  {
   "cell_type": "code",
   "execution_count": null,
   "metadata": {},
   "outputs": [],
   "source": [
    "with grbl.Grbl(port=\"/dev/ttyUSB0\") as cnc:\n",
    "    cnc.reset()\n",
    "    cnc.cmd(\"$X\")\n",
    "    cnc.cmd(\"G0X-25F300\")\n",
    "    cnc.cmd(\"$X\")\n",
    "    cnc.home()"
   ]
  },
  {
   "cell_type": "code",
   "execution_count": null,
   "metadata": {},
   "outputs": [],
   "source": [
    "cnc = grbl.Grbl(port=\"/dev/ttyUSB0\")"
   ]
  },
  {
   "cell_type": "code",
   "execution_count": null,
   "metadata": {},
   "outputs": [],
   "source": [
    "cnc.status"
   ]
  },
  {
   "cell_type": "code",
   "execution_count": null,
   "metadata": {},
   "outputs": [],
   "source": [
    "cnc.reset()"
   ]
  },
  {
   "cell_type": "code",
   "execution_count": null,
   "metadata": {},
   "outputs": [],
   "source": [
    "cnc.cmd(\"$X\")"
   ]
  },
  {
   "cell_type": "code",
   "execution_count": null,
   "metadata": {},
   "outputs": [],
   "source": [
    "cnc.cmd(\"G91G21\")"
   ]
  },
  {
   "cell_type": "code",
   "execution_count": null,
   "metadata": {},
   "outputs": [],
   "source": [
    "cnc.cmd(\"G0X-10F100\")"
   ]
  },
  {
   "cell_type": "code",
   "execution_count": null,
   "metadata": {},
   "outputs": [],
   "source": [
    "def init():\n",
    "    prog = gcode.GCode()\n",
    "    prog.G92(X=0, Y=0, Z=0) \n",
    "    prog.G21() # Metric\n",
    "    prog.G90() # Absolute\n",
    "    return prog\n",
    "\n",
    "\n",
    "X_pos = 15\n",
    "laserin_speed=200\n",
    "Ys = np.array([10, 60])\n",
    "\n",
    "def calibration_border():\n",
    "    laserin_power=255\n",
    "    laserin_speed=100\n",
    "    X_pos = 15\n",
    "    Ys = np.array([10, 60])\n",
    "    axis_prog=gcode.GCode()\n",
    "    axis_prog.G0(X=0, Y=0, Z=0, F=300)\n",
    "    axis_prog.M3(S=int(laserin_power))\n",
    "    axis_prog.G1(X=0, Y=0, Z=0, F=laserin_speed)\n",
    "    axis_prog.G1(X=0, Y=Ys[1], Z=0, F=laserin_speed)\n",
    "    axis_prog.G0(X=X_pos+150, Y=0, Z=0)\n",
    "    axis_prog.G1(X=0, Y=0, Z=0, F=laserin_speed)\n",
    "    axis_prog.G1(X=X_pos, Y=Ys[0], Z=0, F=laserin_speed)\n",
    "    axis_prog.M5()\n",
    "    return axis_prog\n",
    "\n",
    "doe=gcode.GCode()\n",
    "for laserin_power in [75, 100, 125, 150, 175, 200, 255]:\n",
    "    print(f\"Power Test: {laserin_power}\")\n",
    "    for x_spacing in [0, 0.1, 0.25, 0.5, 0.75, 1, 1.25, 1.5, 1.75, 2, 2.5]:\n",
    "        X_pos+=x_spacing\n",
    "        X_pos=np.round(X_pos, 4)\n",
    "        #\n",
    "        doe.G0(X=X_pos, Y=Ys[0])\n",
    "        #\n",
    "        doe.M3(S=int(laserin_power))\n",
    "        doe.G1(X=X_pos, Y=Ys[0], F=laserin_speed)\n",
    "        doe.G1(X=X_pos,Y=Ys[1], F=laserin_speed)\n",
    "        doe.M5()\n",
    "        #\n",
    "        doe.G0(X=X_pos, Y=Ys[1])\n",
    "        #\n",
    "        print(f\"\\tX:{X_pos}\\tY:{Ys[0]}:{Ys[1]}\")\n",
    "        Ys = np.flip(Ys)\n",
    "    X_pos+=5\n",
    "    "
   ]
  },
  {
   "cell_type": "code",
   "execution_count": null,
   "metadata": {},
   "outputs": [],
   "source": [
    "doe"
   ]
  },
  {
   "cell_type": "code",
   "execution_count": null,
   "metadata": {},
   "outputs": [],
   "source": [
    "with grbl.Grbl(port=\"/dev/ttyUSB0\") as cnc:\n",
    "    cnc.reset()\n",
    "    cnc.home()\n",
    "    cnc.run(init())\n",
    "    cnc.run(calibration_border())\n",
    "    cnc.run(doe)\n",
    "    cnc.home()"
   ]
  },
  {
   "cell_type": "code",
   "execution_count": null,
   "metadata": {},
   "outputs": [],
   "source": [
    "doe"
   ]
  },
  {
   "cell_type": "code",
   "execution_count": null,
   "metadata": {},
   "outputs": [],
   "source": []
  }
 ],
 "metadata": {
  "kernelspec": {
   "display_name": "Python 3",
   "language": "python",
   "name": "python3"
  },
  "language_info": {
   "codemirror_mode": {
    "name": "ipython",
    "version": 3
   },
   "file_extension": ".py",
   "mimetype": "text/x-python",
   "name": "python",
   "nbconvert_exporter": "python",
   "pygments_lexer": "ipython3",
   "version": "3.8.0"
  }
 },
 "nbformat": 4,
 "nbformat_minor": 2
}
