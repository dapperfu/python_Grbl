{
 "cells": [
  {
   "cell_type": "markdown",
   "metadata": {},
   "source": [
    "# Calibration Rectangle \n",
    "\n",
    "150mm x 50mm rectangle for calibration purposes\n",
    "splay the image."
   ]
  },
  {
   "cell_type": "code",
   "execution_count": 1,
   "metadata": {},
   "outputs": [],
   "source": [
    "import gcode\n",
    "import numpy as np\n",
    "import matplotlib.pyplot as plt"
   ]
  },
  {
   "cell_type": "code",
   "execution_count": 2,
   "metadata": {},
   "outputs": [
    {
     "data": {
      "text/plain": [
       "'http://cnc.lan/switch/cnc_relay'"
      ]
     },
     "execution_count": 2,
     "metadata": {},
     "output_type": "execute_result"
    }
   ],
   "source": [
    "import requests\n",
    "\n",
    "esphome_cfg = {\n",
    "    \"host\": \"cnc.lan\",\n",
    "    \"id\": \"cnc_relay\"\n",
    "}\n",
    "\n",
    "base_url = f\"http://{esphome_cfg['host']}/switch/{esphome_cfg['id']}\"\n",
    "base_url"
   ]
  },
  {
   "cell_type": "code",
   "execution_count": 3,
   "metadata": {},
   "outputs": [],
   "source": [
    "r = requests.post(f\"{base_url}/turn_on\")\n",
    "assert r.status_code == 200\n",
    "\n",
    "r = requests.get(f\"{base_url}\")\n",
    "assert r.json()[\"state\"] == \"ON\"\n",
    "assert r.json()[\"value\"]\n",
    "\n",
    "r = requests.post(f\"{base_url}/turn_off\")\n",
    "assert r.status_code == 200\n",
    "\n",
    "\n",
    "r = requests.get(f\"{base_url}\")\n",
    "assert r.json()[\"state\"] == \"OFF\"\n",
    "assert not r.json()[\"value\"]"
   ]
  },
  {
   "cell_type": "code",
   "execution_count": 4,
   "metadata": {},
   "outputs": [],
   "source": [
    "import sys\n",
    "\n",
    "# https://github.com/jed-frey/build_opencv\n",
    "sys.path.append(\"/opt/opencv4/lib/python3.8/site-packages\")\n",
    "\n",
    "import cv2\n",
    "from PIL import Image\n",
    "from IPython.display import display"
   ]
  },
  {
   "cell_type": "code",
   "execution_count": 5,
   "metadata": {},
   "outputs": [],
   "source": [
    "import timeout_decorator\n",
    "\n",
    "class VideoCapture2(cv2.VideoCapture):\n",
    "    def __init__(self, *args, **kwargs):\n",
    "        super().__init__(*args, **kwargs)\n",
    "        \n",
    "    @property\n",
    "    def frame(self):\n",
    "        ret, frame = self.read()\n",
    "        if ret:\n",
    "            return frame\n",
    "        else:\n",
    "            raise Exception(\"Reading Failed\")\n",
    "        \n",
    "    def pil_img(self):\n",
    "        img = cv2.cvtColor(self.frame, cv2.COLOR_BGR2RGB)\n",
    "        return Image.fromarray(img)\n",
    "    \n",
    "    def __enter__(self):\n",
    "        return self\n",
    "    \n",
    "    @timeout_decorator.timeout(10)\n",
    "    def __exit__(self,type, value, traceback):\n",
    "        while self.isOpened():\n",
    "            self.release() \n",
    "\n",
    "            \n",
    "import IPython.core.magic\n",
    "@IPython.core.magic.register_line_magic\n",
    "def webcam(*args, **kwargs):\n",
    "    webcams = [arg for arg in args[0].split(\" \")]\n",
    "    for webcam in webcams:\n",
    "        if webcam.startswith(\"/dev/video\"):\n",
    "            webcam = int(webcam.split(\"/dev/video\")[-1])\n",
    "        else:\n",
    "            try:\n",
    "                webcam = int(webcam)\n",
    "            except:\n",
    "                pass\n",
    "        with VideoCapture2(webcam) as cap:\n",
    "            img = cap.pil_img()\n",
    "            display(img)"
   ]
  },
  {
   "cell_type": "code",
   "execution_count": 6,
   "metadata": {},
   "outputs": [],
   "source": [
    "import os\n",
    "auth = os.environ[\"WEBCAM_AUTH\"]\n",
    "ip   = os.environ[\"WEBCAM_IP\"]"
   ]
  },
  {
   "cell_type": "code",
   "execution_count": null,
   "metadata": {},
   "outputs": [],
   "source": [
    "%webcam rtsp://$auth@$ip/cam/realmonitor?channel=1&subtype=0"
   ]
  },
  {
   "cell_type": "code",
   "execution_count": 7,
   "metadata": {},
   "outputs": [],
   "source": [
    "r = requests.post(f\"{base_url}/turn_on\")\n",
    "assert r.status_code == 200\n",
    "\n",
    "r = requests.get(f\"{base_url}\")\n",
    "assert r.json()[\"state\"] == \"ON\"\n",
    "assert r.json()[\"value\"]\n",
    "\n",
    "import grbl\n",
    "\n",
    "with grbl.Grbl(port=\"/dev/ttyUSB0\") as cnc:\n",
    "    cnc.home()"
   ]
  },
  {
   "cell_type": "code",
   "execution_count": 8,
   "metadata": {},
   "outputs": [
    {
     "name": "stdout",
     "output_type": "stream",
     "text": [
      "Power Test: 75\n",
      "\tX:15\tY:10:60\n",
      "\tX:15.1\tY:60:10\n",
      "\tX:15.35\tY:10:60\n",
      "\tX:15.85\tY:60:10\n",
      "\tX:16.6\tY:10:60\n",
      "\tX:17.6\tY:60:10\n",
      "\tX:18.85\tY:10:60\n",
      "\tX:20.35\tY:60:10\n",
      "\tX:22.1\tY:10:60\n",
      "\tX:24.1\tY:60:10\n",
      "\tX:26.6\tY:10:60\n",
      "Power Test: 100\n",
      "\tX:31.6\tY:60:10\n",
      "\tX:31.7\tY:10:60\n",
      "\tX:31.95\tY:60:10\n",
      "\tX:32.45\tY:10:60\n",
      "\tX:33.2\tY:60:10\n",
      "\tX:34.2\tY:10:60\n",
      "\tX:35.45\tY:60:10\n",
      "\tX:36.95\tY:10:60\n",
      "\tX:38.7\tY:60:10\n",
      "\tX:40.7\tY:10:60\n",
      "\tX:43.2\tY:60:10\n",
      "Power Test: 125\n",
      "\tX:48.2\tY:10:60\n",
      "\tX:48.3\tY:60:10\n",
      "\tX:48.55\tY:10:60\n",
      "\tX:49.05\tY:60:10\n",
      "\tX:49.8\tY:10:60\n",
      "\tX:50.8\tY:60:10\n",
      "\tX:52.05\tY:10:60\n",
      "\tX:53.55\tY:60:10\n",
      "\tX:55.3\tY:10:60\n",
      "\tX:57.3\tY:60:10\n",
      "\tX:59.8\tY:10:60\n",
      "Power Test: 150\n",
      "\tX:64.8\tY:60:10\n",
      "\tX:64.9\tY:10:60\n",
      "\tX:65.15\tY:60:10\n",
      "\tX:65.65\tY:10:60\n",
      "\tX:66.4\tY:60:10\n",
      "\tX:67.4\tY:10:60\n",
      "\tX:68.65\tY:60:10\n",
      "\tX:70.15\tY:10:60\n",
      "\tX:71.9\tY:60:10\n",
      "\tX:73.9\tY:10:60\n",
      "\tX:76.4\tY:60:10\n",
      "Power Test: 175\n",
      "\tX:81.4\tY:10:60\n",
      "\tX:81.5\tY:60:10\n",
      "\tX:81.75\tY:10:60\n",
      "\tX:82.25\tY:60:10\n",
      "\tX:83.0\tY:10:60\n",
      "\tX:84.0\tY:60:10\n",
      "\tX:85.25\tY:10:60\n",
      "\tX:86.75\tY:60:10\n",
      "\tX:88.5\tY:10:60\n",
      "\tX:90.5\tY:60:10\n",
      "\tX:93.0\tY:10:60\n",
      "Power Test: 200\n",
      "\tX:98.0\tY:60:10\n",
      "\tX:98.1\tY:10:60\n",
      "\tX:98.35\tY:60:10\n",
      "\tX:98.85\tY:10:60\n",
      "\tX:99.6\tY:60:10\n",
      "\tX:100.6\tY:10:60\n",
      "\tX:101.85\tY:60:10\n",
      "\tX:103.35\tY:10:60\n",
      "\tX:105.1\tY:60:10\n",
      "\tX:107.1\tY:10:60\n",
      "\tX:109.6\tY:60:10\n",
      "Power Test: 255\n",
      "\tX:114.6\tY:10:60\n",
      "\tX:114.7\tY:60:10\n",
      "\tX:114.95\tY:10:60\n",
      "\tX:115.45\tY:60:10\n",
      "\tX:116.2\tY:10:60\n",
      "\tX:117.2\tY:60:10\n",
      "\tX:118.45\tY:10:60\n",
      "\tX:119.95\tY:60:10\n",
      "\tX:121.7\tY:10:60\n",
      "\tX:123.7\tY:60:10\n",
      "\tX:126.2\tY:10:60\n"
     ]
    }
   ],
   "source": [
    "def init():\n",
    "    prog = gcode.GCode()\n",
    "    prog.G92(X=0, Y=0, Z=0) \n",
    "    prog.G21() # Metric\n",
    "    prog.G90() # Absolute\n",
    "    return prog\n",
    "\n",
    "\n",
    "X_pos = 15\n",
    "laserin_speed=200\n",
    "Ys = np.array([10, 60])\n",
    "\n",
    "def calibration_border():\n",
    "    laserin_power=255\n",
    "    laserin_speed=100\n",
    "    X_pos = 15\n",
    "    Ys = np.array([10, 60])\n",
    "    axis_prog=gcode.GCode()\n",
    "    axis_prog.G0(X=0, Y=0, Z=0, F=300)\n",
    "    axis_prog.M3(S=int(laserin_power))\n",
    "    axis_prog.G1(X=0, Y=0, Z=0, F=laserin_speed)\n",
    "    axis_prog.G1(X=0, Y=Ys[1], Z=0, F=laserin_speed)\n",
    "    axis_prog.G0(X=X_pos+150, Y=0, Z=0)\n",
    "    axis_prog.G1(X=0, Y=0, Z=0, F=laserin_speed)\n",
    "    axis_prog.G1(X=X_pos, Y=Ys[0], Z=0, F=laserin_speed)\n",
    "    axis_prog.M5()\n",
    "    return axis_prog\n",
    "\n",
    "doe=gcode.GCode()\n",
    "for laserin_power in [75, 100, 125, 150, 175, 200, 255]:\n",
    "    print(f\"Power Test: {laserin_power}\")\n",
    "    for x_spacing in [0, 0.1, 0.25, 0.5, 0.75, 1, 1.25, 1.5, 1.75, 2, 2.5]:\n",
    "        X_pos+=x_spacing\n",
    "        X_pos=np.round(X_pos, 4)\n",
    "        #\n",
    "        doe.G0(X=X_pos, Y=Ys[0])\n",
    "        #\n",
    "        doe.M3(S=int(laserin_power))\n",
    "        doe.G1(X=X_pos, Y=Ys[0], F=laserin_speed)\n",
    "        doe.G1(X=X_pos,Y=Ys[1], F=laserin_speed)\n",
    "        doe.M5()\n",
    "        #\n",
    "        doe.G0(X=X_pos, Y=Ys[1])\n",
    "        #\n",
    "        print(f\"\\tX:{X_pos}\\tY:{Ys[0]}:{Ys[1]}\")\n",
    "        Ys = np.flip(Ys)\n",
    "    X_pos+=5\n",
    "    "
   ]
  },
  {
   "cell_type": "code",
   "execution_count": 9,
   "metadata": {},
   "outputs": [
    {
     "name": "stderr",
     "output_type": "stream",
     "text": [
      "100%|██████████| 3/3 [00:00<00:00,  9.45it/s]\n",
      "100%|██████████| 8/8 [00:00<00:00,  9.33it/s]\n",
      "100%|██████████| 462/462 [21:28<00:00,  2.79s/it]\n"
     ]
    }
   ],
   "source": [
    "with grbl.Grbl(port=\"/dev/ttyUSB0\") as cnc:\n",
    "    cnc.reset()\n",
    "    cnc.home()\n",
    "    cnc.run(init())\n",
    "    cnc.run(calibration_border())\n",
    "    cnc.run(doe)\n",
    "    cnc.home()"
   ]
  },
  {
   "cell_type": "code",
   "execution_count": null,
   "metadata": {},
   "outputs": [],
   "source": [
    "doe"
   ]
  },
  {
   "cell_type": "code",
   "execution_count": null,
   "metadata": {},
   "outputs": [],
   "source": []
  }
 ],
 "metadata": {
  "kernelspec": {
   "display_name": "Python 3",
   "language": "python",
   "name": "python3"
  },
  "language_info": {
   "codemirror_mode": {
    "name": "ipython",
    "version": 3
   },
   "file_extension": ".py",
   "mimetype": "text/x-python",
   "name": "python",
   "nbconvert_exporter": "python",
   "pygments_lexer": "ipython3",
   "version": "3.8.0"
  }
 },
 "nbformat": 4,
 "nbformat_minor": 2
}
