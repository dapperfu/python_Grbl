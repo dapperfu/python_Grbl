{
 "cells": [
  {
   "cell_type": "markdown",
   "metadata": {},
   "source": [
    "# CNC3018 Setup"
   ]
  },
  {
   "cell_type": "code",
   "execution_count": 1,
   "metadata": {},
   "outputs": [],
   "source": [
    "import grbl\n",
    "# Where /dev/ttyUSB0 is the serial port the Grbl device shows up as.\n",
    "grbl = grbl.Grbl(port=\"/dev/ttyUSB0\")"
   ]
  },
  {
   "cell_type": "code",
   "execution_count": 2,
   "metadata": {},
   "outputs": [
    {
     "data": {
      "text/plain": [
       "(1, ['ok'])"
      ]
     },
     "execution_count": 2,
     "metadata": {},
     "output_type": "execute_result"
    }
   ],
   "source": [
    "grbl.reset()"
   ]
  },
  {
   "cell_type": "code",
   "execution_count": 3,
   "metadata": {},
   "outputs": [
    {
     "data": {
      "text/plain": [
       "'<Alarm|WPos:193.676,195.500,-0.500|FS:0,0|Pn:X|WCO:-195.000,-195.000,0.000>'"
      ]
     },
     "execution_count": 3,
     "metadata": {},
     "output_type": "execute_result"
    }
   ],
   "source": [
    "grbl.status"
   ]
  },
  {
   "cell_type": "code",
   "execution_count": null,
   "metadata": {},
   "outputs": [],
   "source": [
    "cnc3018_cfg = \"\"\"$0 = 10; Step pulse, microseconds\n",
    "$1 = 100; Step idle delay, milliseconds\n",
    "$2 = 0; Step port invert, mask\n",
    "$3 = 5; Direction port invert, mask\n",
    "$4 = 0; Step enable invert, boolean\n",
    "$5 = 0; Limit pins invert, boolean\n",
    "$6 = 0; Probe pin invert, boolean\n",
    "$10 = 0; Status report, mask\n",
    "$11 = 0.010; Junction deviation, mm\n",
    "$12 = 0.002; Arc tolerance, mm\n",
    "$13 = 0; Report inches, boolean\n",
    "$20 = 0; Soft limits, boolean\n",
    "$21 = 1; Hard limits, boolean\n",
    "$22 = 1; Homing cycle, boolean\n",
    "$23 = 3; Homing dir invert, mask\n",
    "$24 = 120.000; Homing feed, mm/min\n",
    "$25 = 600.000; Homing seek, mm/min\n",
    "$26 = 20; Homing debounce, milliseconds\n",
    "$27 = 0.5; Homing pull-off, mm\n",
    "$100 = 800.000; X steps/mm\n",
    "$101 = 800.000; Y steps/mm\n",
    "$102 = 800.000; Z steps/mm\n",
    "$110 = 800.000; Max rate X, mm/min\n",
    "$111 = 800.000; Max rate Y, mm/min\n",
    "$112 = 500.000; Max rate Z, mm/min\n",
    "$120 = 10.000; Acceleration X, mm/sec^2\n",
    "$121 = 10.000; Acceleration Y, mm/sec^2\n",
    "$122 = 10.000; Acceleration Z, mm/sec^2\n",
    "$130 = 260.000; Max travel X, mm\n",
    "$131 = 200.000; Max travel Y, mm\n",
    "$132 = 200.000; Max travel Z, mm\"\"\"\n",
    "\n",
    "grbl.reset()\n",
    "for setting_line in cnc3018_cfg.splitlines():\n",
    "    setting, comment = setting_line.split(\";\")\n",
    "    grbl.cmd(setting)\n",
    "grbl.cmd(\"G91\")\n",
    "grbl.cmd(\"G21\")\n",
    "grbl.cmd(\"$H\")\n",
    "grbl.cmd(\"G92X0Y0Z0\")\n",
    "grbl.cmd(\"G1X0Y0Z0F300\")"
   ]
  },
  {
   "cell_type": "code",
   "execution_count": null,
   "metadata": {},
   "outputs": [],
   "source": [
    "grbl.status"
   ]
  },
  {
   "cell_type": "code",
   "execution_count": null,
   "metadata": {},
   "outputs": [],
   "source": [
    "grbl.reset()"
   ]
  },
  {
   "cell_type": "code",
   "execution_count": null,
   "metadata": {
    "scrolled": true
   },
   "outputs": [],
   "source": [
    "grbl.cmd(\"G91\")\n",
    "\n",
    "grbl.cmd(\"G21\")\n",
    "\n",
    "grbl.cmd(\"G0X-10F100\")"
   ]
  },
  {
   "cell_type": "code",
   "execution_count": null,
   "metadata": {},
   "outputs": [],
   "source": [
    "grbl.cmd(\"$X\")"
   ]
  },
  {
   "cell_type": "markdown",
   "metadata": {},
   "source": [
    "## "
   ]
  },
  {
   "cell_type": "code",
   "execution_count": null,
   "metadata": {},
   "outputs": [],
   "source": [
    "grbl.status"
   ]
  },
  {
   "cell_type": "code",
   "execution_count": null,
   "metadata": {},
   "outputs": [],
   "source": [
    "grbl.cmd(\"$$\")"
   ]
  },
  {
   "cell_type": "markdown",
   "metadata": {},
   "source": [
    "'<Idle|WPos:10.500,15.250,0.000|FS:0,1>"
   ]
  },
  {
   "cell_type": "code",
   "execution_count": null,
   "metadata": {},
   "outputs": [],
   "source": []
  },
  {
   "cell_type": "code",
   "execution_count": null,
   "metadata": {},
   "outputs": [],
   "source": [
    "grbl.cmd(\"$G\")"
   ]
  },
  {
   "cell_type": "markdown",
   "metadata": {},
   "source": [
    "you want to perform a G54 to make work coords to be 0\n",
    "G10 P1 L20 X0 Y0 Z0\n",
    "\n",
    "the P is where you set  \n",
    "P1 = G54  \n",
    "P2 = G55  \n",
    "P3 = G56  \n",
    "P4 = G57  \n",
    "P5 = G58  \n",
    "P6 = G59  "
   ]
  },
  {
   "cell_type": "code",
   "execution_count": null,
   "metadata": {},
   "outputs": [],
   "source": [
    "grbl.cmd(\"G1X10.5F300\")"
   ]
  },
  {
   "cell_type": "code",
   "execution_count": null,
   "metadata": {},
   "outputs": [],
   "source": [
    "grbl.cmd(\"G1Y15.25F300\")"
   ]
  },
  {
   "cell_type": "code",
   "execution_count": null,
   "metadata": {},
   "outputs": [],
   "source": [
    "grbl.cmd(\"G1X-1F300\")"
   ]
  },
  {
   "cell_type": "code",
   "execution_count": null,
   "metadata": {},
   "outputs": [],
   "source": [
    "grbl.status"
   ]
  },
  {
   "cell_type": "code",
   "execution_count": null,
   "metadata": {},
   "outputs": [],
   "source": [
    "grbl.cmd(\"G92X0Y0Z0\")"
   ]
  },
  {
   "cell_type": "code",
   "execution_count": null,
   "metadata": {},
   "outputs": [],
   "source": [
    "grbl.cmd(\"G0X10F30\")"
   ]
  },
  {
   "cell_type": "code",
   "execution_count": null,
   "metadata": {},
   "outputs": [],
   "source": [
    "grbl.status"
   ]
  },
  {
   "cell_type": "code",
   "execution_count": null,
   "metadata": {},
   "outputs": [],
   "source": [
    "grbl.cmd(\"$23=3\")"
   ]
  },
  {
   "cell_type": "code",
   "execution_count": null,
   "metadata": {},
   "outputs": [],
   "source": [
    "grbl.cmd(\"G0Y0Z0X0F60\")"
   ]
  },
  {
   "cell_type": "code",
   "execution_count": null,
   "metadata": {},
   "outputs": [],
   "source": [
    "grbl.cmd(\"G92X0Y0Z0\")"
   ]
  },
  {
   "cell_type": "code",
   "execution_count": null,
   "metadata": {},
   "outputs": [],
   "source": [
    "grbl.laser_mode"
   ]
  },
  {
   "cell_type": "code",
   "execution_count": null,
   "metadata": {},
   "outputs": [],
   "source": [
    "grbl.status_report=0\n",
    "grbl.cmd(\"G92X0Y0Z0\")\n",
    "grbl.status"
   ]
  },
  {
   "cell_type": "code",
   "execution_count": null,
   "metadata": {},
   "outputs": [],
   "source": [
    "grbl.cmd"
   ]
  },
  {
   "cell_type": "code",
   "execution_count": null,
   "metadata": {},
   "outputs": [],
   "source": [
    "grbl."
   ]
  },
  {
   "cell_type": "code",
   "execution_count": null,
   "metadata": {},
   "outputs": [],
   "source": [
    "grbl.reset()"
   ]
  },
  {
   "cell_type": "code",
   "execution_count": null,
   "metadata": {},
   "outputs": [],
   "source": [
    "grbl.cmd(\"$X\")"
   ]
  },
  {
   "cell_type": "code",
   "execution_count": null,
   "metadata": {},
   "outputs": [],
   "source": [
    "grbl.home()"
   ]
  },
  {
   "cell_type": "code",
   "execution_count": null,
   "metadata": {},
   "outputs": [],
   "source": [
    "grbl.cmd(\"$23 = 1\")"
   ]
  },
  {
   "cell_type": "code",
   "execution_count": null,
   "metadata": {},
   "outputs": [],
   "source": [
    "grbl.cmd(\"G0Z-2\")"
   ]
  },
  {
   "cell_type": "code",
   "execution_count": null,
   "metadata": {},
   "outputs": [],
   "source": [
    "grbl.cmd(\"G0X-2\")"
   ]
  },
  {
   "cell_type": "code",
   "execution_count": null,
   "metadata": {},
   "outputs": [],
   "source": [
    "grbl.cmd(\"G0Y-2F100\")"
   ]
  },
  {
   "cell_type": "code",
   "execution_count": null,
   "metadata": {},
   "outputs": [],
   "source": [
    "grbl.cmd(\"G0Y2F100\")"
   ]
  },
  {
   "cell_type": "code",
   "execution_count": null,
   "metadata": {},
   "outputs": [],
   "source": [
    "grbl.cmd(\"$22=1\")"
   ]
  },
  {
   "cell_type": "code",
   "execution_count": null,
   "metadata": {},
   "outputs": [],
   "source": [
    "grbl.cmd(\"G92X0Y0Z0\")"
   ]
  },
  {
   "cell_type": "code",
   "execution_count": null,
   "metadata": {},
   "outputs": [],
   "source": [
    "grbl.cmd(\"$H\")"
   ]
  },
  {
   "cell_type": "code",
   "execution_count": null,
   "metadata": {},
   "outputs": [],
   "source": [
    "grbl.status"
   ]
  },
  {
   "cell_type": "code",
   "execution_count": null,
   "metadata": {},
   "outputs": [],
   "source": [
    "grbl.cmd(cnc3018_cfg.splitlines())"
   ]
  },
  {
   "cell_type": "code",
   "execution_count": null,
   "metadata": {},
   "outputs": [],
   "source": [
    "grbl.cmd(\"$10=2\")"
   ]
  },
  {
   "cell_type": "markdown",
   "metadata": {},
   "source": [
    "## Aim Laser Module"
   ]
  },
  {
   "cell_type": "code",
   "execution_count": null,
   "metadata": {},
   "outputs": [],
   "source": [
    "state, mpos, bf, fs = grbl.status.strip(\"<>\").split(\"|\")"
   ]
  }
 ],
 "metadata": {
  "kernelspec": {
   "display_name": "Python 3",
   "language": "python",
   "name": "python3"
  },
  "language_info": {
   "codemirror_mode": {
    "name": "ipython",
    "version": 3
   },
   "file_extension": ".py",
   "mimetype": "text/x-python",
   "name": "python",
   "nbconvert_exporter": "python",
   "pygments_lexer": "ipython3",
   "version": "3.7.3"
  }
 },
 "nbformat": 4,
 "nbformat_minor": 2
}
