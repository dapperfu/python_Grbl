{
 "cells": [
  {
   "cell_type": "markdown",
   "metadata": {},
   "source": [
    "# Calibration Rectangle \n",
    "\n",
    "150mm x 50mm rectangle for calibration purposes\n",
    "splay the image."
   ]
  },
  {
   "cell_type": "code",
   "execution_count": null,
   "metadata": {},
   "outputs": [],
   "source": [
    "import gcode"
   ]
  },
  {
   "cell_type": "code",
   "execution_count": null,
   "metadata": {},
   "outputs": [],
   "source": [
    "gcode.GCode"
   ]
  },
  {
   "cell_type": "code",
   "execution_count": null,
   "metadata": {},
   "outputs": [],
   "source": [
    "gcode.GCode?"
   ]
  },
  {
   "cell_type": "code",
   "execution_count": null,
   "metadata": {},
   "outputs": [],
   "source": [
    "gcode.hline"
   ]
  },
  {
   "cell_type": "code",
   "execution_count": null,
   "metadata": {},
   "outputs": [],
   "source": [
    "gcode.hline?"
   ]
  },
  {
   "cell_type": "code",
   "execution_count": null,
   "metadata": {},
   "outputs": [],
   "source": [
    "gcode.hline(X0=0, Xf=10, Y=0)"
   ]
  },
  {
   "cell_type": "code",
   "execution_count": null,
   "metadata": {},
   "outputs": [],
   "source": [
    "gcode.Line(gcode.hline(X0=0, Xf=10, Y=0))"
   ]
  },
  {
   "cell_type": "code",
   "execution_count": null,
   "metadata": {},
   "outputs": [],
   "source": [
    "gcode.Shapes.Circle?"
   ]
  },
  {
   "cell_type": "code",
   "execution_count": null,
   "metadata": {},
   "outputs": [],
   "source": [
    "gcode.Shapes.Square?"
   ]
  },
  {
   "cell_type": "code",
   "execution_count": null,
   "metadata": {},
   "outputs": [],
   "source": [
    "import numpy as np"
   ]
  },
  {
   "cell_type": "code",
   "execution_count": null,
   "metadata": {},
   "outputs": [],
   "source": [
    "x = np.linspace(0,10, 100)\n",
    "x"
   ]
  },
  {
   "cell_type": "code",
   "execution_count": null,
   "metadata": {},
   "outputs": [],
   "source": [
    "np.log10(.1)"
   ]
  },
  {
   "cell_type": "code",
   "execution_count": null,
   "metadata": {},
   "outputs": [],
   "source": [
    "np.log10(100)"
   ]
  },
  {
   "cell_type": "code",
   "execution_count": null,
   "metadata": {},
   "outputs": [],
   "source": [
    "# Calibration Program"
   ]
  },
  {
   "cell_type": "markdown",
   "metadata": {},
   "source": [
    "[Assume homing is done]"
   ]
  },
  {
   "cell_type": "markdown",
   "metadata": {},
   "source": [
    "> G92: A Programmable Temporary Work Offset\n",
    "\n",
    "> Suppose you want a programmable temporary work offset. There are a lot of ways to accomplish this, but one that is tried and true is to use G92. G92 establishes a work offset based on the offset coordinates you provide. So, if that vise jaw corner we’ve talked about is located from the current tool position at offset X10Y10Z0, you could execute the following:\n",
    "\n",
    "- https://www.cnccookbook.com/g54-g92-g52-work-offsets-cnc-g-code/\n",
    "\n",
    ">  G20 / G21 G Codes are Unit Conversion for the Machine, Not Your Part Program\n",
    "\n",
    "- G20 and G21 G Code: Metric and Imperial Unit Conversion CNC Programming\n",
    "\n",
    "> G91 & G90 G-Code: CNC Absolute and Incremental Programming\n",
    "https://www.cnccookbook.com/g91-g90-g-code-cnc-absolute-incremental-programming/\n",
    "\n",
    "![](http://s3.cnccookbook.com/img/CNCCookbook/GCodeCourse/CoordinatePipeline.jpg)"
   ]
  },
  {
   "cell_type": "code",
   "execution_count": null,
   "metadata": {},
   "outputs": [],
   "source": [
    "prog = gcode.GCode()\n",
    "prog.G92(X=0, Y=0, Z=0) \n",
    "prog.G21() # Metric\n",
    "prog.G90() # Absolute\n",
    "\n",
    "prog"
   ]
  },
  {
   "cell_type": "code",
   "execution_count": null,
   "metadata": {},
   "outputs": [],
   "source": [
    "# DOE Configuration\n",
    "laserin_speed=200\n",
    "laserin_power=200"
   ]
  },
  {
   "cell_type": "code",
   "execution_count": null,
   "metadata": {},
   "outputs": [],
   "source": [
    "def init():\n",
    "    prog = gcode.GCode()\n",
    "    prog.G92(X=0, Y=0, Z=0) \n",
    "    prog.G21() # Metric\n",
    "    prog.G90() # Absolute\n",
    "    return prog"
   ]
  },
  {
   "cell_type": "code",
   "execution_count": null,
   "metadata": {},
   "outputs": [],
   "source": [
    "axis_prog=gcode.GCode()\n",
    "axis_prog.G0(X=0, Y=0, Z=0, F=300)\n",
    "axis_prog.M4(S=laserin_power)\n",
    "axis_prog.G1(X=0, Y=0, Z=0, F=laserin_speed)\n",
    "axis_prog.G1(X=0, Y=160, Z=0, F=laserin_speed)\n",
    "axis_prog.G0(X=60, Y=0, Z=0)\n",
    "axis_prog.G1(X=0, Y=0, Z=0, F=laserin_speed)\n",
    "axis_prog.G1(X=10, Y=10, Z=0, F=laserin_speed)\n",
    "axis_prog"
   ]
  },
  {
   "cell_type": "code",
   "execution_count": null,
   "metadata": {},
   "outputs": [],
   "source": [
    "init()+axis_prog"
   ]
  },
  {
   "cell_type": "code",
   "execution_count": null,
   "metadata": {},
   "outputs": [],
   "source": [
    "Ys = [10, 160]"
   ]
  },
  {
   "cell_type": "code",
   "execution_count": null,
   "metadata": {},
   "outputs": [],
   "source": [
    "X_pos = 10\n",
    "for laserin_power in [75, 100, 125, 150, 175, 200, 255]:\n",
    "    print(f\"Power Test: {laserin_power}\")\n",
    "    for x_spacing in [0, 0.1, 0.25, 0.5, 1, 1.25, 2, 2.5, 5]:\n",
    "        X_pos+=x_spacing\n",
    "        X_pos=np.round(X_pos, 4)\n",
    "        print(f\"\\tX {X_pos}\")\n",
    "    X_pos+=5\n",
    "# 5 mm between DOE tests.\n",
    "X_pos"
   ]
  },
  {
   "cell_type": "code",
   "execution_count": null,
   "metadata": {},
   "outputs": [],
   "source": [
    "X_pos = 10\n",
    "for laserin_power in [75, 100, 125, 150, 175, 200, 255]:\n",
    "    print(f\"Power Test: {laserin_power}\")\n",
    "    for x_spacing in [0, 0.1, 0.25, 0.5, 1, 1.25, 2, 2.5, 5]:\n",
    "        X_pos+=x_spacing\n",
    "        X_pos=np.round(X_pos, 4)\n",
    "        Ys = np.flip(Ys)\n",
    "        print(f\"\\tX:{X_pos}\\tY:{Ys[0]}:{Ys[1]}\")\n",
    "    X_pos+=5\n",
    "# 5 mm between DOE tests.\n",
    "X_pos"
   ]
  },
  {
   "cell_type": "code",
   "execution_count": null,
   "metadata": {},
   "outputs": [],
   "source": [
    "doe=gcode.GCode()\n",
    "X_pos = 10\n",
    "for laserin_power in [75, 100, 125, 150, 175, 200, 255]:\n",
    "    print(f\"Power Test: {laserin_power}\")\n",
    "    for x_spacing in [0, 0.1, 0.25, 0.5, 1, 1.25, 2, 2.5, 5]:\n",
    "        X_pos+=x_spacing\n",
    "        X_pos=np.round(X_pos, 4)\n",
    "        \n",
    "        \n",
    "        doe.G0(X=X_pos, Y=Ys[0])\n",
    "        doe.G1(X=X_pos, Y=Ys[0])\n",
    "        \n",
    "        doe.G1(X=X_pos, Y=Ys[1])\n",
    "        doe.G0(X=X_pos, Y=Ys[1])\n",
    "        \n",
    "        \n",
    "        Ys = np.flip(Ys)\n",
    "        print(f\"\\tX:{X_pos}\\tY:{Ys[0]}:{Ys[1]}\")\n",
    "    X_pos+=5\n",
    "# 5 mm between DOE tests.\n",
    "X_pos"
   ]
  },
  {
   "cell_type": "code",
   "execution_count": null,
   "metadata": {},
   "outputs": [],
   "source": [
    "doe"
   ]
  },
  {
   "cell_type": "code",
   "execution_count": null,
   "metadata": {},
   "outputs": [],
   "source": []
  }
 ],
 "metadata": {
  "kernelspec": {
   "display_name": "Python 3",
   "language": "python",
   "name": "python3"
  },
  "language_info": {
   "codemirror_mode": {
    "name": "ipython",
    "version": 3
   },
   "file_extension": ".py",
   "mimetype": "text/x-python",
   "name": "python",
   "nbconvert_exporter": "python",
   "pygments_lexer": "ipython3",
   "version": "3.8.0"
  }
 },
 "nbformat": 4,
 "nbformat_minor": 2
}
