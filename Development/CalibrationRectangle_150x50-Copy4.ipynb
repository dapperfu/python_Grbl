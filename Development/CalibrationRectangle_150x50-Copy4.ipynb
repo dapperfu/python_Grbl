{
 "cells": [
  {
   "cell_type": "markdown",
   "metadata": {},
   "source": [
    "# Calibration Rectangle \n",
    "\n",
    "150mm x 50mm rectangle for calibration purposes\n",
    "splay the image."
   ]
  },
  {
   "cell_type": "code",
   "execution_count": 6,
   "metadata": {},
   "outputs": [],
   "source": [
    "import gcode\n",
    "import numpy as np\n",
    "import matplotlib.pyplot as plt"
   ]
  },
  {
   "cell_type": "code",
   "execution_count": 7,
   "metadata": {},
   "outputs": [
    {
     "name": "stdout",
     "output_type": "stream",
     "text": [
      "Power Test: 75\n",
      "\tX:15\tY:10:60\n",
      "\tX:15.1\tY:60:10\n",
      "\tX:15.35\tY:10:60\n",
      "\tX:15.85\tY:60:10\n",
      "\tX:16.85\tY:10:60\n",
      "\tX:18.1\tY:60:10\n",
      "\tX:20.1\tY:10:60\n",
      "\tX:22.6\tY:60:10\n",
      "\tX:27.6\tY:10:60\n",
      "Power Test: 100\n",
      "\tX:32.6\tY:60:10\n",
      "\tX:32.7\tY:10:60\n",
      "\tX:32.95\tY:60:10\n",
      "\tX:33.45\tY:10:60\n",
      "\tX:34.45\tY:60:10\n",
      "\tX:35.7\tY:10:60\n",
      "\tX:37.7\tY:60:10\n",
      "\tX:40.2\tY:10:60\n",
      "\tX:45.2\tY:60:10\n",
      "Power Test: 125\n",
      "\tX:50.2\tY:10:60\n",
      "\tX:50.3\tY:60:10\n",
      "\tX:50.55\tY:10:60\n",
      "\tX:51.05\tY:60:10\n",
      "\tX:52.05\tY:10:60\n",
      "\tX:53.3\tY:60:10\n",
      "\tX:55.3\tY:10:60\n",
      "\tX:57.8\tY:60:10\n",
      "\tX:62.8\tY:10:60\n",
      "Power Test: 150\n",
      "\tX:67.8\tY:60:10\n",
      "\tX:67.9\tY:10:60\n",
      "\tX:68.15\tY:60:10\n",
      "\tX:68.65\tY:10:60\n",
      "\tX:69.65\tY:60:10\n",
      "\tX:70.9\tY:10:60\n",
      "\tX:72.9\tY:60:10\n",
      "\tX:75.4\tY:10:60\n",
      "\tX:80.4\tY:60:10\n",
      "Power Test: 175\n",
      "\tX:85.4\tY:10:60\n",
      "\tX:85.5\tY:60:10\n",
      "\tX:85.75\tY:10:60\n",
      "\tX:86.25\tY:60:10\n",
      "\tX:87.25\tY:10:60\n",
      "\tX:88.5\tY:60:10\n",
      "\tX:90.5\tY:10:60\n",
      "\tX:93.0\tY:60:10\n",
      "\tX:98.0\tY:10:60\n",
      "Power Test: 200\n",
      "\tX:103.0\tY:60:10\n",
      "\tX:103.1\tY:10:60\n",
      "\tX:103.35\tY:60:10\n",
      "\tX:103.85\tY:10:60\n",
      "\tX:104.85\tY:60:10\n",
      "\tX:106.1\tY:10:60\n",
      "\tX:108.1\tY:60:10\n",
      "\tX:110.6\tY:10:60\n",
      "\tX:115.6\tY:60:10\n",
      "Power Test: 255\n",
      "\tX:120.6\tY:10:60\n",
      "\tX:120.7\tY:60:10\n",
      "\tX:120.95\tY:10:60\n",
      "\tX:121.45\tY:60:10\n",
      "\tX:122.45\tY:10:60\n",
      "\tX:123.7\tY:60:10\n",
      "\tX:125.7\tY:10:60\n",
      "\tX:128.2\tY:60:10\n",
      "\tX:133.2\tY:10:60\n"
     ]
    }
   ],
   "source": [
    "def init():\n",
    "    prog = gcode.GCode()\n",
    "    prog.G92(X=0, Y=0, Z=0) \n",
    "    prog.G21() # Metric\n",
    "    prog.G90() # Absolute\n",
    "    return prog\n",
    "\n",
    "\n",
    "X_pos = 15\n",
    "laserin_speed=300\n",
    "Ys = np.array([10, 60])\n",
    "\n",
    "def calibration_border(laserin_speed, laserin_power):\n",
    "    X_pos = 15\n",
    "    Ys = np.array([10, 60])\n",
    "    axis_prog=gcode.GCode()\n",
    "    axis_prog.G0(X=0, Y=0, Z=0, F=300)\n",
    "    axis_prog.M4(S=laserin_power)\n",
    "    axis_prog.G1(X=0, Y=0, Z=0, F=laserin_speed)\n",
    "    axis_prog.G1(X=0, Y=Ys[1], Z=0, F=laserin_speed)\n",
    "    axis_prog.G0(X=X_pos+150, Y=0, Z=0)\n",
    "    axis_prog.G1(X=0, Y=0, Z=0, F=laserin_speed)\n",
    "    axis_prog.G1(X=X_pos, Y=Ys[0], Z=0, F=laserin_speed)\n",
    "    axis_prog.M5()\n",
    "    return axis_prog\n",
    "\n",
    "doe=gcode.GCode()\n",
    "for laserin_power in [75, 100, 125, 150, 175, 200, 255]:\n",
    "    print(f\"Power Test: {laserin_power}\")\n",
    "    for x_spacing in [0, 0.1, 0.25, 0.5, 1, 1.25, 2, 2.5, 5]:\n",
    "        X_pos+=x_spacing\n",
    "        X_pos=np.round(X_pos, 4)\n",
    "        #\n",
    "        doe.G0(X=X_pos, Y=Ys[0])\n",
    "        #\n",
    "        doe.M4(S=laserin_power)\n",
    "        doe.G1(X=X_pos, Y=Ys[0], F=laserin_speed)\n",
    "        doe.G1(X=X_pos, Y=Ys[1], F=laserin_speed)\n",
    "        doe.M5()\n",
    "        #\n",
    "        doe.G0(X=X_pos, Y=Ys[1])\n",
    "        #\n",
    "        print(f\"\\tX:{X_pos}\\tY:{Ys[0]}:{Ys[1]}\")\n",
    "        Ys = np.flip(Ys)\n",
    "    X_pos+=5\n",
    "    "
   ]
  },
  {
   "cell_type": "code",
   "execution_count": 8,
   "metadata": {},
   "outputs": [],
   "source": [
    "import grbl"
   ]
  },
  {
   "cell_type": "code",
   "execution_count": 5,
   "metadata": {},
   "outputs": [
    {
     "name": "stderr",
     "output_type": "stream",
     "text": [
      "100%|██████████| 3/3 [00:00<00:00,  9.47it/s]\n",
      "100%|██████████| 8/8 [00:00<00:00,  9.35it/s]\n",
      "100%|██████████| 378/378 [12:24<00:00,  1.97s/it]\n"
     ]
    }
   ],
   "source": [
    "with grbl.Grbl(port=\"/dev/ttyUSB0\") as cnc:\n",
    "    cnc.reset()\n",
    "    cnc.run(init())\n",
    "    cnc.run(calibration_border(laserin_speed, laserin_power))\n",
    "    cnc.run(doe)"
   ]
  },
  {
   "cell_type": "code",
   "execution_count": null,
   "metadata": {},
   "outputs": [],
   "source": []
  }
 ],
 "metadata": {
  "kernelspec": {
   "display_name": "Python 3",
   "language": "python",
   "name": "python3"
  },
  "language_info": {
   "codemirror_mode": {
    "name": "ipython",
    "version": 3
   },
   "file_extension": ".py",
   "mimetype": "text/x-python",
   "name": "python",
   "nbconvert_exporter": "python",
   "pygments_lexer": "ipython3",
   "version": "3.8.0"
  }
 },
 "nbformat": 4,
 "nbformat_minor": 2
}
